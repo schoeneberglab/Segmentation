{
 "cells": [
  {
   "cell_type": "markdown",
   "id": "b9336d31-30f5-4aae-920f-d65845de7d42",
   "metadata": {},
   "source": [
    "## This script uses the membrane channel and watershed algorithm to segment individual cells in 3D spheroids. The fluorescence intensities for the individual cells are recorded for downstream analyses."
   ]
  },
  {
   "cell_type": "markdown",
   "id": "3bab4ee0-e15e-43a0-996c-d2e398ad129c",
   "metadata": {},
   "source": [
    "### load modules (itkwidgets, aicssegmentation, skimage, etc.)"
   ]
  },
  {
   "cell_type": "code",
   "execution_count": null,
   "id": "3af82410",
   "metadata": {},
   "outputs": [],
   "source": [
    "import numpy as np\n",
    "\n",
    "# package for 3d visualization\n",
    "from itkwidgets import view                              \n",
    "from aicssegmentation.core.visual import seg_fluo_side_by_side, single_fluorescent_view, segmentation_quick_view\n",
    "import matplotlib.pyplot as plt\n",
    "\n",
    "# package for io\n",
    "import os\n",
    "from shutil import rmtree\n",
    "import skimage\n",
    "from skimage.io import imread, imsave\n",
    "from aicsimageio import AICSImage\n",
    "import pandas as pd\n",
    "from glob import glob\n",
    "from tqdm.notebook import trange\n",
    "\n",
    "# function for core algorithm\n",
    "from aicssegmentation.core.vessel import filament_2d_wrapper, filament_3d_wrapper\n",
    "from aicssegmentation.core.pre_processing_utils import intensity_normalization, image_smoothing_gaussian_3d\n",
    "from skimage.morphology import disk, dilation, erosion, closing, opening, remove_small_objects, remove_small_holes\n",
    "from skimage.segmentation import watershed\n",
    "from skimage.measure import label, regionprops\n",
    "from skimage.filters import difference_of_gaussians as dog_filter"
   ]
  },
  {
   "cell_type": "markdown",
   "id": "17807ea6",
   "metadata": {},
   "source": [
    "### load images"
   ]
  },
  {
   "cell_type": "code",
   "execution_count": null,
   "id": "6aa4c88f",
   "metadata": {},
   "outputs": [],
   "source": [
    "root_path = '/run/user/1000/gvfs/smb-share:server=taurus0.jslab.ucsd.edu,share=processing/MOSAIC_Data/Processed_Data/20230913 Zhang Lab /Sample 1/1/'\n",
    "original_membrane_img = imread(root_path+'CancerOrganoid_SS006B_488nm_stack0000_0000000msec_processed.tif')\n",
    "output_dir = root_path+'/segmented/'\n",
    "try:\n",
    "    os.mkdir(output_dir)\n",
    "except: \n",
    "    print(\"segmentation folder exist\")\n",
    "print(original_membrane_img.shape)"
   ]
  },
  {
   "cell_type": "markdown",
   "id": "6c9f507a",
   "metadata": {},
   "source": [
    "### Check original image and decide the range in z"
   ]
  },
  {
   "cell_type": "code",
   "execution_count": null,
   "id": "bf5ce725",
   "metadata": {},
   "outputs": [],
   "source": [
    "membrane_img = original_membrane_img[100:400, 400:1300, 700:1500]\n",
    "\n",
    "num_z = membrane_img.shape[0]\n",
    "\n",
    "print(membrane_img.shape)\n",
    "# z, y, x"
   ]
  },
  {
   "cell_type": "markdown",
   "id": "d5e6e7b5",
   "metadata": {},
   "source": [
    "### Normalization and smoothing"
   ]
  },
  {
   "cell_type": "code",
   "execution_count": null,
   "id": "a678b23b-4432-45ea-8be2-7ccac8d86844",
   "metadata": {},
   "outputs": [],
   "source": [
    "membrane_img.max()"
   ]
  },
  {
   "cell_type": "code",
   "execution_count": null,
   "id": "46e108c8-bd64-440b-8660-f9c9cc8ae63d",
   "metadata": {},
   "outputs": [],
   "source": [
    "# intensity normalization\n",
    "membrane_img_norm = membrane_img / 20000\n",
    "\n",
    "imsave(output_dir+'normalized_membrane.tif', membrane_img_norm)"
   ]
  },
  {
   "cell_type": "markdown",
   "id": "6a0601a8",
   "metadata": {},
   "source": [
    "### 2D membrane contour segmentation"
   ]
  },
  {
   "cell_type": "code",
   "execution_count": null,
   "id": "b71074b7-353f-4125-bac1-f52253d2308a",
   "metadata": {},
   "outputs": [],
   "source": [
    "threshold = 0.08\n",
    "membrane_thresholded = membrane_img_norm.copy()\n",
    "membrane_thresholded[membrane_thresholded<=threshold] = 0\n",
    "membrane_thresholded[membrane_thresholded>threshold] = 255\n",
    "membrane_thresholded = membrane_thresholded.astype('uint8')\n",
    "imsave(output_dir+'membrane_binary.tif', membrane_thresholded)"
   ]
  },
  {
   "cell_type": "markdown",
   "id": "c1bef4d9",
   "metadata": {},
   "source": [
    "### optional image processing routines"
   ]
  },
  {
   "cell_type": "code",
   "execution_count": null,
   "id": "54b000d3",
   "metadata": {},
   "outputs": [],
   "source": [
    "cleaned_zstack = membrane_thresholded.copy()\n",
    "\n",
    "for z in trange(num_z):\n",
    "    dilated = dilation(membrane_thresholded[z], selem=disk(10))\n",
    "    closed = closing(dilated, disk(10))\n",
    "    cleaned_zstack[z] = closed\n",
    "\n",
    "imsave(output_dir+'membrane_cleaned.tif', cleaned_zstack)"
   ]
  },
  {
   "cell_type": "markdown",
   "id": "5782c20c",
   "metadata": {},
   "source": [
    "### create seed for watershed using the automatically generated contour"
   ]
  },
  {
   "cell_type": "code",
   "execution_count": null,
   "id": "a791b0ef",
   "metadata": {
    "scrolled": true
   },
   "outputs": [],
   "source": [
    "seed_z = label(~cleaned_zstack) # invert and then label each connected cluster\n",
    "# properties = regionprops(seed_z)\n",
    "# print(properties)"
   ]
  },
  {
   "cell_type": "code",
   "execution_count": null,
   "id": "b7fbaac6-e57e-4ff3-aa3c-e6a9ae425038",
   "metadata": {},
   "outputs": [],
   "source": [
    "imsave(output_dir+'auto_seed.tif', seed_z.astype('uint8'))"
   ]
  },
  {
   "cell_type": "code",
   "execution_count": null,
   "id": "f0f0e8f9",
   "metadata": {},
   "outputs": [],
   "source": [
    "# # Open in ImageJ and convert the label of background to default 0\n",
    "# for bg_index in [1]:\n",
    "#     seed_z[(seed_z==bg_index)] = 0\n",
    "# imsave(output_dir+'auto_seed.tif', seed_z.astype('uint8'))"
   ]
  },
  {
   "cell_type": "code",
   "execution_count": null,
   "id": "481b2a33",
   "metadata": {},
   "outputs": [],
   "source": [
    "# # Open in ImageJ and correct the seed\n",
    "# manual_seed = imread(output_dir+'auto_seed.tif')\n",
    "# # manual_seed = imread(output_dir+'auto_seed.tif') # if no correction is needed\n",
    "\n",
    "# manual_seed = label(manual_seed)\n",
    "# manual_seed = manual_seed[np.newaxis]\n",
    "# view(manual_seed[0])"
   ]
  },
  {
   "cell_type": "markdown",
   "id": "9d3a010c",
   "metadata": {},
   "source": [
    "### use the final seed to run 3D watershed"
   ]
  },
  {
   "cell_type": "code",
   "execution_count": null,
   "id": "e4d29868",
   "metadata": {
    "scrolled": true
   },
   "outputs": [],
   "source": [
    "# takes some time\n",
    "watershed_mask = watershed(membrane_img_norm, markers=seed_z, watershed_line=True).astype('uint8')"
   ]
  },
  {
   "cell_type": "code",
   "execution_count": null,
   "id": "55efa5c0",
   "metadata": {},
   "outputs": [],
   "source": [
    "imsave(output_dir+'watershed_mask.tif', watershed_mask)"
   ]
  },
  {
   "cell_type": "markdown",
   "id": "18d3c5c0",
   "metadata": {},
   "source": [
    "#### manually check each label and pick labels"
   ]
  },
  {
   "cell_type": "code",
   "execution_count": null,
   "id": "b3476b81",
   "metadata": {},
   "outputs": [],
   "source": [
    "# save all cell crops\n",
    "if os.path.isdir(output_dir+'initial_masks/'):\n",
    "    rmtree(output_dir+'initial_masks/')\n",
    "os.mkdir(output_dir+'initial_masks/')\n",
    "\n",
    "volume_list = []\n",
    "for label_num in range(num_label+1):\n",
    "    mask = watershed_mask == label_num\n",
    "    volume_list.append(np.sum(mask))\n",
    "    imsave(output_dir+'initial_masks/cell_'+str(label_num)+'.png', np.max(mask, axis=0))"
   ]
  },
  {
   "cell_type": "markdown",
   "id": "c5710d83",
   "metadata": {},
   "source": [
    "#### extract desired labels and check"
   ]
  },
  {
   "cell_type": "code",
   "execution_count": null,
   "id": "834a14b9",
   "metadata": {},
   "outputs": [],
   "source": [
    "# enter undesired cell labels\n",
    "invalid_labels = [1]\n",
    "for i,v in enumerate(volume_list):\n",
    "    if v < 50000:\n",
    "        invalid_labels.append(i)\n",
    "invalid_labels"
   ]
  },
  {
   "cell_type": "code",
   "execution_count": null,
   "id": "356355e0",
   "metadata": {},
   "outputs": [],
   "source": [
    "checked_mask = watershed_mask.copy()\n",
    "# clear the other labels\n",
    "for l in trange(num_label+1):\n",
    "    if l in invalid_labels:\n",
    "        mask = watershed_mask == l\n",
    "        checked_mask[mask] = 0\n",
    "        \n",
    "# sort and relabel from 1 to N with 0 as bg\n",
    "checked_mask = label(checked_mask)\n",
    "imsave(output_dir+'checked_mask_3d.tif', checked_mask.astype('uint8'))"
   ]
  },
  {
   "cell_type": "code",
   "execution_count": null,
   "id": "243bb4d6",
   "metadata": {},
   "outputs": [],
   "source": [
    "# filtered_mask = checked_mask.copy()\n",
    "\n",
    "# ## do closing to close holes if needed, will cause index problem\n",
    "# for z in range(len(checked_mask)):\n",
    "#     filtered_mask[z] = closing(checked_mask[z], disk(10))\n",
    "\n",
    "# final_mask = label(filtered_mask)\n",
    "# imsave(output_dir+'final_mask.tif', final_mask.astype('uint8'))\n",
    "# view(final_mask)"
   ]
  },
  {
   "cell_type": "code",
   "execution_count": null,
   "id": "df902c19",
   "metadata": {},
   "outputs": [],
   "source": [
    "final_mask = checked_mask\n",
    "num_cell = max(final_mask.ravel())\n",
    "num_cell"
   ]
  },
  {
   "cell_type": "code",
   "execution_count": null,
   "id": "53405e29",
   "metadata": {},
   "outputs": [],
   "source": [
    "# save selected crops\n",
    "if os.path.isdir(output_dir+'final_masks/'):\n",
    "    rmtree(output_dir+'final_masks/')\n",
    "os.mkdir(output_dir+'final_masks/')\n",
    "\n",
    "for cell_num in range(1,num_cell+1):\n",
    "    mask = final_mask == cell_num\n",
    "    imsave(output_dir+'final_masks/cell_'+str(cell_num)+'.png',  np.max(mask, axis=0))"
   ]
  },
  {
   "cell_type": "markdown",
   "id": "3cb42b12",
   "metadata": {},
   "source": [
    "### crop mitochondria signal for each segmented cell"
   ]
  },
  {
   "cell_type": "code",
   "execution_count": null,
   "id": "17769bca",
   "metadata": {},
   "outputs": [],
   "source": [
    "## reload data if closed kernel\n",
    "# checked_mask = imread(output_dir+'checked_mask_3d.tif')\n",
    "# num_cell = max(checked_mask.ravel())"
   ]
  },
  {
   "cell_type": "code",
   "execution_count": null,
   "id": "11960113-c042-4759-9c16-e3c29f8b0ae7",
   "metadata": {},
   "outputs": [],
   "source": [
    "def int_to_stack(frame_index):\n",
    "\n",
    "    if len(str(frame_index)) == 1:\n",
    "        return 'stack000'+str(frame_index)\n",
    "    elif len(str(frame_index)) == 2:\n",
    "        return 'stack00'+str(frame_index)\n",
    "    elif len(str(frame_index)) == 3:\n",
    "        return 'stack0'+str(frame_index)\n",
    "    else:\n",
    "        raise Exception('Integer input is needed!')"
   ]
  },
  {
   "cell_type": "code",
   "execution_count": null,
   "id": "67ab5baf",
   "metadata": {},
   "outputs": [],
   "source": [
    "unprocessed_root_path = '/run/user/1000/gvfs/smb-share:server=taurus0.jslab.ucsd.edu,share=processing/MOSAIC_Data/Processed_Data/20230913 Zhang Lab/Sample 1/1//'\n",
    "cell_id, frame_id, mean_intensity = [], [], []\n",
    "\n",
    "for frame in trange(len(glob(unprocessed_root_path+'*642nm*tif'))):\n",
    "    other_channel = glob(unprocessed_root_path+'*642nm*'+int_to_stack(frame)+'*tif')[0]\n",
    "    print(other_channel)\n",
    "\n",
    "    signal_img = imread(glob(unprocessed_root_path+'*642nm*'+int_to_stack(frame)+'*tif')[0])\n",
    "    signal_img = signal_img[100:400, 400:1300, 700:1500]\n",
    "\n",
    "    for n in trange(1, num_cell+1): # label 0 is background\n",
    "        mask = (final_mask == n)\n",
    "    \n",
    "        cell_id.append(n)\n",
    "        frame_id.append(frame)\n",
    "        mean_intensity.append(np.sum(signal_img[mask]) / np.sum(mask))\n",
    "\n",
    "    print(mean_intensity[-num_cell:])\n",
    "\n",
    "data = pd.DataFrame({'cell id': cell_id, 'frame id': frame_id, 'HaloTag mean intensity': mean_intensity})\n",
    "data.to_csv(root_path+'sample1_loc1_data.csv')"
   ]
  }
 ],
 "metadata": {
  "kernelspec": {
   "display_name": "Python 3 (ipykernel)",
   "language": "python",
   "name": "python3"
  },
  "language_info": {
   "codemirror_mode": {
    "name": "ipython",
    "version": 3
   },
   "file_extension": ".py",
   "mimetype": "text/x-python",
   "name": "python",
   "nbconvert_exporter": "python",
   "pygments_lexer": "ipython3",
   "version": "3.8.19"
  }
 },
 "nbformat": 4,
 "nbformat_minor": 5
}
